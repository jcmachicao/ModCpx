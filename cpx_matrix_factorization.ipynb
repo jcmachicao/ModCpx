{
  "nbformat": 4,
  "nbformat_minor": 0,
  "metadata": {
    "colab": {
      "provenance": [],
      "mount_file_id": "1qVk9rFH_RjAsunxHYaZb3zZVGUQGvxgP",
      "authorship_tag": "ABX9TyPmCQa8dK5xXyM889shTEzo",
      "include_colab_link": true
    },
    "kernelspec": {
      "name": "python3",
      "display_name": "Python 3"
    },
    "language_info": {
      "name": "python"
    }
  },
  "cells": [
    {
      "cell_type": "markdown",
      "metadata": {
        "id": "view-in-github",
        "colab_type": "text"
      },
      "source": [
        "<a href=\"https://colab.research.google.com/github/jcmachicao/ModCpx/blob/main/cpx_matrix_factorization.ipynb\" target=\"_parent\"><img src=\"https://colab.research.google.com/assets/colab-badge.svg\" alt=\"Open In Colab\"/></a>"
      ]
    },
    {
      "cell_type": "markdown",
      "metadata": {
        "id": "JNEeCpF5tuYr"
      },
      "source": [
        "# Factorización Matricial para Gestión de Atributos de Exito\n",
        "Elaborado por: José Carlos Machicao (GestioDinámica) <br>\n",
        "Fecha de Actualización: Agosto 2021\n"
      ]
    },
    {
      "cell_type": "code",
      "metadata": {
        "id": "ocu1NQ10jFir"
      },
      "source": [
        "import numpy as np\n",
        "import matplotlib.pyplot as plt"
      ],
      "execution_count": null,
      "outputs": []
    },
    {
      "cell_type": "markdown",
      "metadata": {
        "id": "M30P1dhkjKIw"
      },
      "source": [
        "* R: Matriz de calificación (puede estar incompleta)\n",
        "* P: |U| * K (Usuarios con determinadas habilidades)\n",
        "* Q: |D| * K (Objetos que requieren determinadas habilidades)\n",
        "* K: Habilidades (caracteristicas)\n",
        "* steps: iteraciones\n",
        "* alpha: learning rate (recomendable 0.0002)\n",
        "* beta: regularization parameter (recomendable 0.02)"
      ]
    },
    {
      "cell_type": "markdown",
      "metadata": {
        "id": "xvcsI7RXSkL4"
      },
      "source": [
        "## Funciones"
      ]
    },
    {
      "cell_type": "code",
      "metadata": {
        "id": "Jjs5f0imjDQj"
      },
      "source": [
        "#@title Función de Factorización Matricial\n",
        "def matrix_factorization(R, P, Q, K, steps, alpha=0.0002, beta=0.02):\n",
        "\n",
        "  err = []\n",
        "\n",
        "  Q = Q.T\n",
        "\n",
        "  for step in range(steps):\n",
        "    for i in range(len(R)):\n",
        "      for j in range(len(R[i])):\n",
        "        if R[i][j] > 0:\n",
        "          # calculate error\n",
        "          eij = R[i][j] - np.dot(P[i,:],Q[:,j])\n",
        "          for k in range(K):\n",
        "            # calculate gradient with alpha and beta parameter\n",
        "            P[i][k] = P[i][k] + alpha * (2 * eij * Q[k][j] - beta * P[i][k])\n",
        "            Q[k][j] = Q[k][j] + alpha * (2 * eij * P[i][k] - beta * Q[k][j])\n",
        "\n",
        "      eR = np.dot(P,Q)\n",
        "\n",
        "      e = 0\n",
        "\n",
        "      for i in range(len(R)):\n",
        "        for j in range(len(R[i])):\n",
        "          if R[i][j] > 0:\n",
        "            e = e + pow(R[i][j] - np.dot(P[i,:],Q[:,j]), 2)\n",
        "            for k in range(K):\n",
        "              e = e + (beta/2) * (pow(P[i][k],2) + pow(Q[k][j],2))\n",
        "      # 0.001: local minimum\n",
        "      err.append(e)\n",
        "      if e < 0.001:\n",
        "        break\n",
        "\n",
        "  return P, Q.T, err"
      ],
      "execution_count": null,
      "outputs": []
    },
    {
      "cell_type": "code",
      "metadata": {
        "id": "fGeKp06CxVXy",
        "cellView": "form"
      },
      "source": [
        "#@title Función de Dibujo de Matriz\n",
        "def dibuja_matriz(Mx, colorx):\n",
        "  plt.figure(figsize=(5,5))\n",
        "  plt.imshow(Mx, cmap=colorx)\n",
        "  plt.colorbar()\n",
        "  plt.show()"
      ],
      "execution_count": null,
      "outputs": []
    },
    {
      "cell_type": "markdown",
      "metadata": {
        "id": "pc_fuNNPSo3f"
      },
      "source": [
        "## Proceso"
      ]
    },
    {
      "cell_type": "code",
      "metadata": {
        "id": "5ie2JDW1j4eD"
      },
      "source": [
        "R = np.array([\n",
        "     [5,3,0,1],\n",
        "     [4,0,0,1],\n",
        "     [1,1,0,5],\n",
        "     [1,0,0,4],\n",
        "     [0,1,5,4],\n",
        "     [2,1,3,0],\n",
        "    ], dtype='float32')"
      ],
      "execution_count": null,
      "outputs": []
    },
    {
      "cell_type": "code",
      "metadata": {
        "colab": {
          "base_uri": "https://localhost:8080/",
          "height": 324
        },
        "id": "JaZDa8B22i9y",
        "outputId": "35a5f288-5cfa-4727-95f7-1434028c5e20"
      },
      "source": [
        "dibuja_matriz(R, 'Reds')"
      ],
      "execution_count": null,
      "outputs": [
        {
          "output_type": "display_data",
          "data": {
            "text/plain": [
              "<Figure size 360x360 with 2 Axes>"
            ],
            "image/png": "[encoded data removed]"
          },
          "metadata": {
            "needs_background": "light"
          }
        }
      ]
    },
    {
      "cell_type": "code",
      "metadata": {
        "id": "udrbZbMHkM4C"
      },
      "source": [
        "R = np.array(R) \n",
        "N = len(R) # N: número de usuarios\n",
        "M = len(R[0]) # M: nímero de objetos\n",
        "K = 3 # número de atributos"
      ],
      "execution_count": null,
      "outputs": []
    },
    {
      "cell_type": "code",
      "metadata": {
        "id": "aiv8MOiwkHnK"
      },
      "source": [
        "P = np.random.rand(N,K)\n",
        "Q = np.random.rand(M,K)"
      ],
      "execution_count": null,
      "outputs": []
    },
    {
      "cell_type": "code",
      "metadata": {
        "colab": {
          "base_uri": "https://localhost:8080/",
          "height": 320
        },
        "id": "hrrtIHullTuK",
        "outputId": "3c1f3a6e-56f2-4986-9c13-3e199c5b27c2"
      },
      "source": [
        "dibuja_matriz(P, 'Reds')"
      ],
      "execution_count": null,
      "outputs": [
        {
          "output_type": "display_data",
          "data": {
            "text/plain": [
              "<Figure size 360x360 with 2 Axes>"
            ],
            "image/png": "[encoded data removed]"
          },
          "metadata": {
            "needs_background": "light"
          }
        }
      ]
    },
    {
      "cell_type": "code",
      "metadata": {
        "colab": {
          "base_uri": "https://localhost:8080/",
          "height": 324
        },
        "id": "UqS9JiWClVkC",
        "outputId": "5a4e72b7-ec3d-460b-82c7-cfbc8df6b0f1"
      },
      "source": [
        "dibuja_matriz(Q, 'Reds')"
      ],
      "execution_count": null,
      "outputs": [
        {
          "output_type": "display_data",
          "data": {
            "text/plain": [
              "<Figure size 360x360 with 2 Axes>"
            ],
            "image/png": "[encoded data removed]"
          },
          "metadata": {
            "needs_background": "light"
          }
        }
      ]
    },
    {
      "cell_type": "code",
      "metadata": {
        "id": "DuoksV6VlR8S"
      },
      "source": [
        "nP, nQ, err = matrix_factorization(R, P, Q, K, steps=2000)\n",
        "nR = np.dot(nP, nQ.T)"
      ],
      "execution_count": null,
      "outputs": []
    },
    {
      "cell_type": "code",
      "metadata": {
        "colab": {
          "base_uri": "https://localhost:8080/",
          "height": 324
        },
        "id": "HPYm7Cg76LIS",
        "outputId": "2056ef7e-0b2b-472e-f50c-7e6074a7e451"
      },
      "source": [
        "dibuja_matriz(R, 'Reds')"
      ],
      "execution_count": null,
      "outputs": [
        {
          "output_type": "display_data",
          "data": {
            "text/plain": [
              "<Figure size 360x360 with 2 Axes>"
            ],
            "image/png": "[encoded data removed]"
          },
          "metadata": {
            "needs_background": "light"
          }
        }
      ]
    },
    {
      "cell_type": "code",
      "metadata": {
        "colab": {
          "base_uri": "https://localhost:8080/",
          "height": 320
        },
        "id": "-IobktVRkkNC",
        "outputId": "b3b5d3e1-2791-4e1b-fd81-7692c85a055c"
      },
      "source": [
        "dibuja_matriz(nR, 'Blues')"
      ],
      "execution_count": null,
      "outputs": [
        {
          "output_type": "display_data",
          "data": {
            "text/plain": [
              "<Figure size 360x360 with 2 Axes>"
            ],
            "image/png": "[encoded data removed]"
          },
          "metadata": {
            "needs_background": "light"
          }
        }
      ]
    },
    {
      "cell_type": "code",
      "metadata": {
        "colab": {
          "base_uri": "https://localhost:8080/",
          "height": 320
        },
        "id": "1tpoKmc5kxnK",
        "outputId": "68ac843e-29a8-4cbf-cc09-be354d03757f"
      },
      "source": [
        "dibuja_matriz(nP, 'Blues')"
      ],
      "execution_count": null,
      "outputs": [
        {
          "output_type": "display_data",
          "data": {
            "text/plain": [
              "<Figure size 360x360 with 2 Axes>"
            ],
            "image/png": "[encoded data removed]"
          },
          "metadata": {
            "needs_background": "light"
          }
        }
      ]
    },
    {
      "cell_type": "code",
      "metadata": {
        "colab": {
          "base_uri": "https://localhost:8080/",
          "height": 306
        },
        "id": "ThHKKDKSkzkD",
        "outputId": "ee68db07-f116-4ce2-a8a2-7c6e30e050dc"
      },
      "source": [
        "dibuja_matriz(nQ.T, 'Blues')"
      ],
      "execution_count": null,
      "outputs": [
        {
          "output_type": "display_data",
          "data": {
            "text/plain": [
              "<Figure size 360x360 with 2 Axes>"
            ],
            "image/png": "[encoded data removed]"
          },
          "metadata": {
            "needs_background": "light"
          }
        }
      ]
    },
    {
      "cell_type": "code",
      "metadata": {
        "colab": {
          "base_uri": "https://localhost:8080/",
          "height": 374
        },
        "id": "QPNNI3lUSYqR",
        "outputId": "337b0e4e-d926-4506-e093-f3b5639366b8"
      },
      "source": [
        "plt.figure(figsize=(8,6))\n",
        "plt.plot(err)\n",
        "plt.grid()\n",
        "plt.show()"
      ],
      "execution_count": null,
      "outputs": [
        {
          "output_type": "display_data",
          "data": {
            "image/png": "[encoded data removed]",
            "text/plain": [
              "<Figure size 576x432 with 1 Axes>"
            ]
          },
          "metadata": {
            "tags": [],
            "needs_background": "light"
          }
        }
      ]
    },
    {
      "cell_type": "code",
      "source": [
        "nPR = np.concatenate( (nP, nR), axis=1 )\n",
        "print(nPR.shape)\n",
        "dibuja_matriz(nPR, 'Blues')\n",
        "zero = np.zeros((3,3))\n",
        "nZQ = np.concatenate( (zero, nQ.T), axis=1 )\n",
        "print(nZQ.shape)\n",
        "dibuja_matriz(nZQ, 'Greens')\n",
        "nT = np.concatenate( (nZQ, nPR), axis=0 )\n",
        "print(nT.shape)\n",
        "dibuja_matriz(nT, 'Greens')"
      ],
      "metadata": {
        "colab": {
          "base_uri": "https://localhost:8080/",
          "height": 953
        },
        "id": "dGAXK9kQBf8-",
        "outputId": "683d4fef-4380-441d-f0b1-aca9052eaa6c"
      },
      "execution_count": null,
      "outputs": [
        {
          "output_type": "stream",
          "name": "stdout",
          "text": [
            "(6, 7)\n"
          ]
        },
        {
          "output_type": "display_data",
          "data": {
            "text/plain": [
              "<Figure size 360x360 with 2 Axes>"
            ],
            "image/png": "[encoded data removed]"
          },
          "metadata": {
            "needs_background": "light"
          }
        },
        {
          "output_type": "stream",
          "name": "stdout",
          "text": [
            "(3, 7)\n"
          ]
        },
        {
          "output_type": "display_data",
          "data": {
            "text/plain": [
              "<Figure size 360x360 with 2 Axes>"
            ],
            "image/png": "[encoded data removed]"
          },
          "metadata": {
            "needs_background": "light"
          }
        },
        {
          "output_type": "stream",
          "name": "stdout",
          "text": [
            "(9, 7)\n"
          ]
        },
        {
          "output_type": "display_data",
          "data": {
            "text/plain": [
              "<Figure size 360x360 with 2 Axes>"
            ],
            "image/png": "[encoded data removed]"
          },
          "metadata": {
            "needs_background": "light"
          }
        }
      ]
    },
    {
      "cell_type": "markdown",
      "metadata": {
        "id": "PGsRtDD8tqTS"
      },
      "source": [
        "Fuente:\n",
        "\n",
        "https://towardsdatascience.com/recommendation-system-matrix-factorization-d61978660b4b\n",
        "\n",
        "https://nbviewer.jupyter.org/github/albertauyeung/matrix-factorization-in-python/blob/master/mf.ipynb\n",
        "\n"
      ]
    }
  ]
}
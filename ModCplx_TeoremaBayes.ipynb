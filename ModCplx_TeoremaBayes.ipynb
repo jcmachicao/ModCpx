{
  "nbformat": 4,
  "nbformat_minor": 0,
  "metadata": {
    "colab": {
      "name": "ModCplx_TeoremaBayes.ipynb",
      "provenance": [],
      "collapsed_sections": [],
      "authorship_tag": "ABX9TyNAkzJV2gI9eocej4ZgA0zO",
      "include_colab_link": true
    },
    "kernelspec": {
      "name": "python3",
      "display_name": "Python 3"
    }
  },
  "cells": [
    {
      "cell_type": "markdown",
      "metadata": {
        "id": "view-in-github",
        "colab_type": "text"
      },
      "source": [
        "<a href=\"https://colab.research.google.com/github/jcmachicao/ModCpx/blob/main/ModCplx_TeoremaBayes.ipynb\" target=\"_parent\"><img src=\"https://colab.research.google.com/assets/colab-badge.svg\" alt=\"Open In Colab\"/></a>"
      ]
    },
    {
      "cell_type": "markdown",
      "metadata": {
        "id": "iAlpVV-53mdk"
      },
      "source": [
        "# Teorema de Bayes y Aplicaciones"
      ]
    },
    {
      "cell_type": "markdown",
      "metadata": {
        "id": "VCg3MxXs3qeZ"
      },
      "source": [
        "### 1. Instalación e Importación"
      ]
    },
    {
      "cell_type": "code",
      "metadata": {
        "id": "g4rczukM3SLZ",
        "colab": {
          "base_uri": "https://localhost:8080/",
          "height": 110
        },
        "outputId": "980a95f3-6f77-4620-842f-3f5a7719be7a"
      },
      "source": [
        "!pip install squarify"
      ],
      "execution_count": null,
      "outputs": [
        {
          "output_type": "stream",
          "text": [
            "Collecting squarify\n",
            "  Downloading https://files.pythonhosted.org/packages/0b/2b/2e77c35326efec19819cd1d729540d4d235e6c2a3f37658288a363a67da5/squarify-0.4.3-py3-none-any.whl\n",
            "Installing collected packages: squarify\n",
            "Successfully installed squarify-0.4.3\n"
          ],
          "name": "stdout"
        }
      ]
    },
    {
      "cell_type": "code",
      "metadata": {
        "id": "BpaUpH4u7FIm"
      },
      "source": [
        "import numpy as np\n",
        "import matplotlib.pyplot as plt\n",
        "import squarify"
      ],
      "execution_count": null,
      "outputs": []
    },
    {
      "cell_type": "markdown",
      "metadata": {
        "id": "bSyk6uwCCs6k"
      },
      "source": [
        "### 2. Conceptualización"
      ]
    },
    {
      "cell_type": "markdown",
      "metadata": {
        "id": "P2TR9rOuCx-I"
      },
      "source": [
        "Pregunta 1: Encuentran una persona que demuestra ser detallista, ¿qué tan seguros están ustedes de que esta persona sea un bibliotecario/a?"
      ]
    },
    {
      "cell_type": "code",
      "metadata": {
        "id": "BzdAYVv5Cxbj",
        "cellView": "form"
      },
      "source": [
        "p_opinion_bibliot = 75  #@param {type: \"slider\", min: 0, max: 100}"
      ],
      "execution_count": null,
      "outputs": []
    },
    {
      "cell_type": "markdown",
      "metadata": {
        "id": "bGpl9XLDBKNT"
      },
      "source": [
        "### 3. Cálculo de Bayes"
      ]
    },
    {
      "cell_type": "markdown",
      "metadata": {
        "id": "eQhXR6le6USj"
      },
      "source": [
        "Luego hay algunas preguntas adicionales:\n",
        "\n",
        "* La premisa (**prior**): ¿Cuál es la probabilidad de que alguien sea bibliotecario? \n",
        "* La evidencia dada la premisa: ¿Cuál es la probabilidad de que un bibliotecario sea detallista? "
      ]
    },
    {
      "cell_type": "code",
      "metadata": {
        "id": "QBZZS5zL9NyS",
        "colab": {
          "base_uri": "https://localhost:8080/",
          "height": 357
        },
        "outputId": "451ec0e9-12f5-4f5f-8002-122711605fd1"
      },
      "source": [
        "# data\n",
        "volume = [10, 80, 8, 5]\n",
        "labels = ['Agricultores_Detallistas', 'Agricultores_Genéricos', 'Bibliotecarios_Detallistas', 'Bibliotecarios_Genéricos', ]\n",
        "# diagrama\n",
        "plt.figure(figsize=(12,6))\n",
        "plt.rc('font', size=14)\n",
        "squarify.plot(sizes=volume, color=['blue', 'cyan', 'green', 'lightgreen'], label=labels, alpha=0.9)\n",
        "plt.axis('off')\n",
        "plt.show()"
      ],
      "execution_count": null,
      "outputs": [
        {
          "output_type": "display_data",
          "data": {
            "image/png": "[encoded data removed]",
            "text/plain": [
              "<Figure size 864x432 with 1 Axes>"
            ]
          },
          "metadata": {
            "tags": [],
            "needs_background": "light"
          }
        }
      ]
    },
    {
      "cell_type": "markdown",
      "metadata": {
        "id": "j0icT2ONBXPM"
      },
      "source": [
        "En una población de agricultores y bibliotecarios, ¿que probabilidad hay de que alguien que DADO QUE SEA detallista, SEA bibliotecario?"
      ]
    },
    {
      "cell_type": "code",
      "metadata": {
        "id": "uZQacZAcBUs5",
        "colab": {
          "base_uri": "https://localhost:8080/",
          "height": 35
        },
        "outputId": "a2f37c0f-653f-4825-d257-7cd66fe93b7a"
      },
      "source": [
        "detallistas = volume[0] + volume[2]\n",
        "bibliotecarios_detallistas = volume[2]\n",
        "prob_agdet_dado_det = bibliotecarios_detallistas / detallistas\n",
        "prob_agdet_dado_det"
      ],
      "execution_count": null,
      "outputs": [
        {
          "output_type": "execute_result",
          "data": {
            "text/plain": [
              "0.4444444444444444"
            ]
          },
          "metadata": {
            "tags": []
          },
          "execution_count": 7
        }
      ]
    },
    {
      "cell_type": "code",
      "metadata": {
        "id": "men2nvgHwXe-",
        "cellView": "form",
        "colab": {
          "base_uri": "https://localhost:8080/",
          "height": 35
        },
        "outputId": "946b9711-4bdf-4636-9ebc-14312867e5c0"
      },
      "source": [
        "#@title Resultados\n",
        "print('Ustedes pensaban que la probabilidad de ser bibliotecario al ser detallista era ' + str(p_opinion_bibliot) +  \n",
        "      '%, pero la probabilidad real es ' + str(round(prob_agdet_dado_det,2)*100) + '%.')"
      ],
      "execution_count": null,
      "outputs": [
        {
          "output_type": "stream",
          "text": [
            "Ustedes pensaban que la probabilidad de ser bibliotecario al ser detallista era 75%, pero la probabilidad real es 44.0%.\n"
          ],
          "name": "stdout"
        }
      ]
    },
    {
      "cell_type": "markdown",
      "metadata": {
        "id": "LdykDl-Q3YaO"
      },
      "source": [
        "# Referencias\n",
        "3Blue1Brown Bayes Theorem https://www.youtube.com/watch?v=HZGCoVF3YvM"
      ]
    }
  ]
}